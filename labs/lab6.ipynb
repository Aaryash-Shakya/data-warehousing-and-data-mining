{
 "cells": [
  {
   "cell_type": "code",
   "execution_count": 4,
   "metadata": {},
   "outputs": [
    {
     "name": "stdout",
     "output_type": "stream",
     "text": [
      "Actual Class:  0 0 1 1 1 1 0 0 1 1 0 0 0 0 0 0 0 0 0 0 0 0 0 1 1 0 0 0 0 0 0 0 1 0 0 0 0 0 0 0 1 0 1 1 0 0 0 1 0 1 0 1 0 1 0 1 0 0 1 0 0 1 0 0 0 0 1 1 0 1 0 0 0 0 1 1 0 1 0 0 0 1 1 0 0 0 0 0 0 0 0 0 0 1 0 0 0 0 1 0 0 1 0 0 0 1 0 0 0 1 1 1 0 0 0 0 0 0 1 0 0 0 1 0 1 1 1 1 0 1 1 0 0 0 0 0 0 0 1 1 0 1 0 0 1 0 1 0 0 0 0 0 1 0 1 0 1 0 1 1 0 0 0 0 1 1 0 0 0 1 0 1 1 0 0 1 0 0 1 1 0 0 1 0 0 1 0 0 0 0 0 0 0 1 1 1 0 0 0 0 0 0 1 1 0 0 1 0 0 1 0 1 1 1 0 0 1 1 1 0 1 0 1 0 1 0 0 0 0 1 0\n",
      "Predicted Class:  0 0 1 1 0 0 0 0 1 1 0 1 1 0 0 1 0 0 0 0 1 1 0 1 1 0 0 0 0 0 0 1 1 0 0 0 0 0 0 0 0 1 0 0 0 1 1 1 0 1 0 1 0 1 0 1 0 1 1 0 0 1 0 0 0 1 1 1 0 1 0 0 0 0 1 1 0 1 0 1 0 1 0 0 0 1 0 0 0 0 0 1 0 1 0 0 0 0 1 1 0 0 0 0 0 1 0 0 1 1 1 1 0 0 0 0 0 0 1 0 1 1 0 1 1 1 1 1 0 1 1 0 1 1 0 0 0 0 1 1 0 0 0 0 1 0 0 0 0 0 1 0 1 0 1 0 1 0 1 1 0 0 0 0 1 1 1 0 0 0 0 1 0 1 1 1 0 1 1 1 0 0 0 0 0 1 1 1 1 0 0 1 0 1 0 1 0 0 0 0 0 0 1 1 0 0 1 1 1 0 0 1 1 0 0 0 1 1 1 1 1 0 0 0 1 0 1 0 0 1 0\n",
      "Confusion Matrix:  [[118  34]\n",
      " [ 17  62]]\n",
      "*****Classification Measures*****\n",
      "Accuracy:  [[118  34]\n",
      " [ 17  62]]\n",
      "Recall:  0.7848101265822784\n",
      "Precision:  0.6458333333333334\n",
      "F1 Score:  0.7085714285714285\n"
     ]
    }
   ],
   "source": [
    "import pandas as pd\n",
    "from sklearn import metrics\n",
    "from sklearn.tree import DecisionTreeClassifier \n",
    "\n",
    "dataset = pd.read_csv('diabetes.csv')\n",
    "trainSize = int(len(dataset) * 0.7)\n",
    "train, test = dataset[:trainSize], dataset[trainSize:]\n",
    "\n",
    "p = train['Pregnancies'].values\n",
    "g = train['Glucose'].values\n",
    "bp = train['BloodPressure'].values\n",
    "st = train['SkinThickness'].values\n",
    "ins = train['Insulin'].values\n",
    "bmi = train['BMI'].values\n",
    "dpf = train['DiabetesPedigreeFunction'].values\n",
    "a = train['Age'].values\n",
    "o = train['Outcome'].values\n",
    "\n",
    "trainData = zip(p,g,bp,st,ins,bmi,dpf,a)\n",
    "trainData = list(trainData)\n",
    "\n",
    "model = DecisionTreeClassifier(criterion='entropy', max_depth=4)\n",
    "model.fit(trainData, o)\n",
    "\n",
    "p = test['Pregnancies'].values\n",
    "g = test['Glucose'].values\n",
    "bp = test['BloodPressure'].values\n",
    "st = test['SkinThickness'].values\n",
    "ins = test['Insulin'].values\n",
    "bmi = test['BMI'].values\n",
    "dpf = test['DiabetesPedigreeFunction'].values\n",
    "a = test['Age'].values\n",
    "o = test['Outcome'].values\n",
    "\n",
    "testData = zip(p,g,bp,st,ins,bmi,dpf,a)\n",
    "testData = list(testData)\n",
    "\n",
    "predicted = model.predict(testData)\n",
    "print('Actual Class: ', *o)\n",
    "print('Predicted Class: ', *predicted)\n",
    "\n",
    "print(\"Confusion Matrix: \", metrics.confusion_matrix(o, predicted))\n",
    "print(\"*****Classification Measures*****\")\n",
    "acc=metrics.confusion_matrix(o, predicted)\n",
    "f1=metrics.f1_score(o, predicted)\n",
    "rec=metrics.recall_score(o, predicted)\n",
    "pre=metrics.precision_score(o, predicted)\n",
    "print(\"Accuracy: \", acc)\n",
    "print(\"Recall: \", rec)\n",
    "print(\"Precision: \", pre)\n",
    "print(\"F1 Score: \", f1)\n"
   ]
  }
 ],
 "metadata": {
  "kernelspec": {
   "display_name": ".venv",
   "language": "python",
   "name": "python3"
  },
  "language_info": {
   "codemirror_mode": {
    "name": "ipython",
    "version": 3
   },
   "file_extension": ".py",
   "mimetype": "text/x-python",
   "name": "python",
   "nbconvert_exporter": "python",
   "pygments_lexer": "ipython3",
   "version": "3.12.3"
  }
 },
 "nbformat": 4,
 "nbformat_minor": 2
}
