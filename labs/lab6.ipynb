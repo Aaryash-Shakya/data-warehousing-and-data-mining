{
 "cells": [
  {
   "cell_type": "code",
   "execution_count": 1,
   "metadata": {},
   "outputs": [
    {
     "ename": "ModuleNotFoundError",
     "evalue": "No module named 'pandas'",
     "output_type": "error",
     "traceback": [
      "\u001b[0;31m---------------------------------------------------------------------------\u001b[0m",
      "\u001b[0;31mModuleNotFoundError\u001b[0m                       Traceback (most recent call last)",
      "Cell \u001b[0;32mIn[1], line 1\u001b[0m\n\u001b[0;32m----> 1\u001b[0m \u001b[38;5;28;01mimport\u001b[39;00m \u001b[38;5;21;01mpandas\u001b[39;00m \u001b[38;5;28;01mas\u001b[39;00m \u001b[38;5;21;01mpd\u001b[39;00m\n\u001b[1;32m      2\u001b[0m \u001b[38;5;28;01mimport\u001b[39;00m \u001b[38;5;21;01msklearn\u001b[39;00m \u001b[38;5;28;01mas\u001b[39;00m \u001b[38;5;21;01mmetrics\u001b[39;00m\n\u001b[1;32m      3\u001b[0m \u001b[38;5;28;01mfrom\u001b[39;00m \u001b[38;5;21;01msklearn\u001b[39;00m\u001b[38;5;21;01m.\u001b[39;00m\u001b[38;5;21;01mtree\u001b[39;00m \u001b[38;5;28;01mimport\u001b[39;00m DecisionTreeClassifier \n",
      "\u001b[0;31mModuleNotFoundError\u001b[0m: No module named 'pandas'"
     ]
    }
   ],
   "source": [
    "import pandas as pd\n",
    "import sklearn as metrics\n",
    "from sklearn.tree import DecisionTreeClassifier \n",
    "\n",
    "dataset = pd.read_csv('diabetes.csv')\n",
    "trainSize = int(len(dataset) * 0.7)\n",
    "train, test = dataset[:trainSize], dataset[trainSize:]\n",
    "\n",
    "p = train['Pregnancies'].values\n",
    "g = train['Glucose'].values\n",
    "bp = train['BloodPressure'].values\n",
    "st = train['SkinThickness'].values\n",
    "ins = train['Insulin'].values\n",
    "bmi = train['BMI'].values\n",
    "dpf = train['DiabetesPedigreeFunction'].values\n",
    "a = train['Age'].values\n",
    "o = train['Outcome'].values\n",
    "\n",
    "trainData = zip(p,g,bp,st,ins,bmi,dpf,a)\n",
    "trainData = list(trainData)\n",
    "\n",
    "model = DecisionTreeClassifier(criterion='entropy', max_depth=4)\n",
    "model.fit(trainData, o)\n",
    "\n",
    "p = test['Pregnancies'].values\n",
    "g = test['Glucose'].values\n",
    "bp = test['BloodPressure'].values\n",
    "st = test['SkinThickness'].values\n",
    "ins = test['Insulin'].values\n",
    "bmi = test['BMI'].values\n",
    "dpf = test['DiabetesPedigreeFunction'].values\n",
    "a = test['Age'].values\n",
    "o = test['Outcome'].values\n",
    "\n",
    "testData = zip(p,g,bp,st,ins,bmi,dpf,a)\n",
    "testData = list(trainData)\n",
    "\n",
    "predicted = model.predict(testData)\n",
    "print('Actual Class: ', *o)\n",
    "print('Predicted Class: ', *predicted)\n",
    "\n",
    "print(\"Confusion Matrix: \", metrics.confusion_matrix(o, predicted))\n",
    "print(\"*****Classification Measures*****\")\n",
    "acc=metrics.confusion_matrix(o, predicted)\n",
    "f1=metrics.f1_score(o, predicted)\n",
    "rec=metrics.recall_score(o, predicted)\n",
    "pre=metrics.precision_score(o, predicted)\n",
    "print(\"Accuracy: \", acc)\n",
    "print(\"Recall: \", rec)\n",
    "print(\"Precision: \", pre)\n",
    "print(\"F1 Score: \", f1)\n"
   ]
  }
 ],
 "metadata": {
  "kernelspec": {
   "display_name": "Python 3",
   "language": "python",
   "name": "python3"
  },
  "language_info": {
   "codemirror_mode": {
    "name": "ipython",
    "version": 3
   },
   "file_extension": ".py",
   "mimetype": "text/x-python",
   "name": "python",
   "nbconvert_exporter": "python",
   "pygments_lexer": "ipython3",
   "version": "3.12.3"
  }
 },
 "nbformat": 4,
 "nbformat_minor": 2
}
