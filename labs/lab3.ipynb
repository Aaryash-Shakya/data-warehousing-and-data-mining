{
 "cells": [
  {
   "cell_type": "code",
   "execution_count": 1,
   "metadata": {},
   "outputs": [
    {
     "ename": "ModuleNotFoundError",
     "evalue": "No module named 'sklearn'",
     "output_type": "error",
     "traceback": [
      "\u001b[0;31m---------------------------------------------------------------------------\u001b[0m",
      "\u001b[0;31mModuleNotFoundError\u001b[0m                       Traceback (most recent call last)",
      "Cell \u001b[0;32mIn[1], line 8\u001b[0m\n\u001b[1;32m      6\u001b[0m \u001b[38;5;28;01mimport\u001b[39;00m \u001b[38;5;21;01mnumpy\u001b[39;00m \u001b[38;5;28;01mas\u001b[39;00m \u001b[38;5;21;01mnp\u001b[39;00m\n\u001b[1;32m      7\u001b[0m \u001b[38;5;28;01mimport\u001b[39;00m \u001b[38;5;21;01mmatplotlib\u001b[39;00m\u001b[38;5;21;01m.\u001b[39;00m\u001b[38;5;21;01mpyplot\u001b[39;00m \u001b[38;5;28;01mas\u001b[39;00m \u001b[38;5;21;01mplt\u001b[39;00m\n\u001b[0;32m----> 8\u001b[0m \u001b[38;5;28;01mfrom\u001b[39;00m \u001b[38;5;21;01msklearn\u001b[39;00m\u001b[38;5;21;01m.\u001b[39;00m\u001b[38;5;21;01mcluster\u001b[39;00m \u001b[38;5;28;01mimport\u001b[39;00m KMeans\n\u001b[1;32m     10\u001b[0m d1 \u001b[38;5;241m=\u001b[39m np\u001b[38;5;241m.\u001b[39mrandom\u001b[38;5;241m.\u001b[39mmultivariate_normal([\u001b[38;5;241m10\u001b[39m,\u001b[38;5;241m8\u001b[39m], [[\u001b[38;5;241m1\u001b[39m,\u001b[38;5;241m2\u001b[39m],[\u001b[38;5;241m2\u001b[39m,\u001b[38;5;241m1\u001b[39m]], \u001b[38;5;241m100\u001b[39m)\u001b[38;5;241m.\u001b[39mround(\u001b[38;5;241m0\u001b[39m)\n\u001b[1;32m     11\u001b[0m d2 \u001b[38;5;241m=\u001b[39m np\u001b[38;5;241m.\u001b[39mrandom\u001b[38;5;241m.\u001b[39mmultivariate_normal([\u001b[38;5;241m20\u001b[39m,\u001b[38;5;241m25\u001b[39m], [[\u001b[38;5;241m1\u001b[39m,\u001b[38;5;241m1.5\u001b[39m],[\u001b[38;5;241m1.5\u001b[39m,\u001b[38;5;241m1\u001b[39m]], \u001b[38;5;241m100\u001b[39m)\u001b[38;5;241m.\u001b[39mround(\u001b[38;5;241m0\u001b[39m)\n",
      "\u001b[0;31mModuleNotFoundError\u001b[0m: No module named 'sklearn'"
     ]
    }
   ],
   "source": [
    "'''\n",
    "1. Write a python program to implement K-means clustering algorithm.\n",
    "    Generate 3 sets of 100 2-D \n",
    "'''\n",
    "# K-means Clustering\n",
    "import numpy as np\n",
    "import matplotlib.pyplot as plt\n",
    "from sklearn.cluster import KMeans\n",
    "\n",
    "d1 = np.random.multivariate_normal([10,8], [[1,2],[2,1]], 100).round(0)\n",
    "d2 = np.random.multivariate_normal([20,25], [[1,1.5],[1.5,1]], 100).round(0)\n",
    "d3 = np.random.multivariate_normal([15,16], [[1,2.5],[2.5,1]], 100).round(0)\n",
    "\n",
    "data = np.concatenate((d1, d2, d3),0)\n",
    "# print(len(data))\n",
    "\n",
    "km = KMeans(n_clusters=3, init='random')\n",
    "km.fit(data)\n",
    "centers = km.cluster_centers_\n",
    "labels = km.labels_\n",
    "print(\"Cluster Centers: \", *centers)\n",
    "print(\"Cluster Labels: \", *labels)\n",
    "\n",
    "colors = ['r', 'g', 'b']\n",
    "markers = [\"+\", \"x\", \"*\"]\n",
    "for i in range(len(data)):\n",
    "    plt.plot(data[i][0], data[i][1], color=colors[labels[i]], marker=markers[labels[i]])\n",
    "plt.scatter(centers[:,0], centers[:,1], marker='o', s=50, linewidths=5)\n",
    "plt.show()"
   ]
  },
  {
   "cell_type": "code",
   "execution_count": 14,
   "metadata": {},
   "outputs": [
    {
     "name": "stderr",
     "output_type": "stream",
     "text": [
      "/tmp/ipykernel_5377/47303489.py:6: RuntimeWarning: covariance is not symmetric positive-semidefinite.\n",
      "  d1 = np.random.multivariate_normal([10,8], [[1,2],[2,1]], 100).round(0)\n",
      "/tmp/ipykernel_5377/47303489.py:7: RuntimeWarning: covariance is not symmetric positive-semidefinite.\n",
      "  d2 = np.random.multivariate_normal([20,25], [[1,1.5],[1.5,1]], 100).round(0)\n",
      "/tmp/ipykernel_5377/47303489.py:8: RuntimeWarning: covariance is not symmetric positive-semidefinite.\n",
      "  d3 = np.random.multivariate_normal([15,16], [[1,2.5],[2.5,1]], 100).round(0)\n"
     ]
    },
    {
     "name": "stdout",
     "output_type": "stream",
     "text": [
      "Cluster Centers:  [10.16161616  8.18181818] [20.09 24.95] [14.85148515 15.99009901]\n",
      "Cluster Labels:  0 0 0 0 0 0 0 0 0 0 0 0 0 0 0 0 0 0 0 0 0 0 0 0 0 0 0 0 0 0 0 0 0 0 0 0 0 0 0 0 0 0 0 0 0 0 0 0 0 0 0 0 0 0 0 0 0 0 0 0 0 0 0 0 0 0 0 0 0 0 0 0 0 0 0 0 0 0 0 2 0 0 0 0 0 0 0 0 0 0 0 0 0 0 0 0 0 0 0 0 1 1 1 1 1 1 1 1 1 1 1 1 1 1 1 1 1 1 1 1 1 1 1 1 1 1 1 1 1 1 1 1 1 1 1 1 1 1 1 1 1 1 1 1 1 1 1 1 1 1 1 1 1 1 1 1 1 1 1 1 1 1 1 1 1 1 1 1 1 1 1 1 1 1 1 1 1 1 1 1 1 1 1 1 1 1 1 1 1 1 1 1 1 1 1 1 1 1 1 1 2 2 2 2 2 2 2 2 2 2 2 2 2 2 2 2 2 2 2 2 2 2 2 2 2 2 2 2 2 2 2 2 2 2 2 2 2 2 2 2 2 2 2 2 2 2 2 2 2 2 2 2 2 2 2 2 2 2 2 2 2 2 2 2 2 2 2 2 2 2 2 2 2 2 2 2 2 2 2 2 2 2 2 2 2 2 2 2 2 2 2 2 2 2 2 2 2 2 2 2\n"
     ]
    },
    {
     "data": {
      "image/png": "[encoded data removed]",
      "text/plain": [
       "<Figure size 640x480 with 1 Axes>"
      ]
     },
     "metadata": {},
     "output_type": "display_data"
    }
   ],
   "source": [
    "# K-means Clustering\n",
    "import numpy as np\n",
    "import matplotlib.pyplot as plt\n",
    "from sklearn.cluster import KMeans\n",
    "\n",
    "d1 = np.random.multivariate_normal([10,8], [[1,2],[2,1]], 100).round(0)\n",
    "d2 = np.random.multivariate_normal([20,25], [[1,1.5],[1.5,1]], 100).round(0)\n",
    "d3 = np.random.multivariate_normal([15,16], [[1,2.5],[2.5,1]], 100).round(0)\n",
    "\n",
    "data = np.concatenate((d1, d2, d3),0)\n",
    "# print(len(data))\n",
    "\n",
    "km = KMeans(n_clusters=3, init='k-means++')\n",
    "km.fit(data)\n",
    "centers = km.cluster_centers_\n",
    "labels = km.labels_\n",
    "print(\"Cluster Centers: \", *centers)\n",
    "print(\"Cluster Labels: \", *labels)\n",
    "\n",
    "colors = ['r', 'g', 'b']\n",
    "markers = [\"+\", \"x\", \"*\"]\n",
    "for i in range(len(data)):\n",
    "    plt.plot(data[i][0], data[i][1], color=colors[labels[i]], marker=markers[labels[i]])\n",
    "plt.scatter(centers[:,0], centers[:,1], marker='o', s=25, linewidths=5)\n",
    "plt.show()"
   ]
  }
 ],
 "metadata": {
  "kernelspec": {
   "display_name": "env",
   "language": "python",
   "name": "python3"
  },
  "language_info": {
   "codemirror_mode": {
    "name": "ipython",
    "version": 3
   },
   "file_extension": ".py",
   "mimetype": "text/x-python",
   "name": "python",
   "nbconvert_exporter": "python",
   "pygments_lexer": "ipython3",
   "version": "3.12.3"
  }
 },
 "nbformat": 4,
 "nbformat_minor": 2
}
