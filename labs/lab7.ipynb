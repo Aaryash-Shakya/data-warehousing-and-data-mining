{
 "cells": [
  {
   "cell_type": "markdown",
   "metadata": {},
   "source": [
    "Write a python program to classify breast cancer data using support vector machine and evaluate its performance using Accuracy, Recall , Precision, and F1-score."
   ]
  },
  {
   "cell_type": "code",
   "execution_count": 2,
   "metadata": {},
   "outputs": [
    {
     "name": "stdout",
     "output_type": "stream",
     "text": [
      "Length of data:  569\n",
      "Number of features:  30\n",
      "Feature names:  ['mean radius' 'mean texture' 'mean perimeter' 'mean area'\n",
      " 'mean smoothness' 'mean compactness' 'mean concavity'\n",
      " 'mean concave points' 'mean symmetry' 'mean fractal dimension'\n",
      " 'radius error' 'texture error' 'perimeter error' 'area error'\n",
      " 'smoothness error' 'compactness error' 'concavity error'\n",
      " 'concave points error' 'symmetry error' 'fractal dimension error'\n",
      " 'worst radius' 'worst texture' 'worst perimeter' 'worst area'\n",
      " 'worst smoothness' 'worst compactness' 'worst concavity'\n",
      " 'worst concave points' 'worst symmetry' 'worst fractal dimension']\n",
      "Number of classes:  2\n",
      "Class names:  ['malignant' 'benign']\n",
      "Actual Class:  [1 1 0 1 1 1 1 1 1 1 0 1 1 1 1 1 0 1 1 0 1 1 1 1 1 1 1 1 1 1 1 1 0 1 0 0 1\n",
      " 0 1 1 1 1 1 0 1 1 0 1 0 1 1 0 1 0 1 1 1 1 1 1 1 1 0 0 1 1 1 1 1 1 0 1 1 1\n",
      " 1 1 1 1 1 1 1 0 1 1 1 1 1 1 1 0 1 0 1 1 0 1 1 1 1 1 0 0 1 0 1 0 1 1 1 1 1\n",
      " 0 1 1 0 1 0 1 0 0 1 1 1 0 1 1 1 1 1 1 1 1 1 1 1 0 1 0 0 1 1 1 1 1 1 1 1 1\n",
      " 1 1 1 1 1 1 1 1 1 1 1 1 1 1 1 1 0 0 0 0 0 0 1]\n",
      "Predicted Class:  [1 1 0 1 1 1 1 1 1 1 0 1 1 1 1 0 0 1 1 0 1 1 1 0 1 1 1 1 1 1 1 1 0 1 0 0 1\n",
      " 0 1 1 1 1 1 0 1 1 0 1 0 1 0 0 1 0 1 1 1 0 1 1 1 1 0 0 1 1 1 0 1 1 0 1 1 1\n",
      " 1 1 1 1 0 1 1 0 1 1 1 1 1 1 1 0 1 0 1 0 0 1 1 1 1 1 0 0 1 0 1 0 1 1 1 1 1\n",
      " 0 1 1 0 1 0 1 0 0 1 1 1 0 1 1 1 1 1 1 1 1 1 1 1 0 1 0 0 1 1 1 1 0 0 1 1 1\n",
      " 1 1 1 1 1 1 1 1 1 1 1 1 1 1 1 1 0 0 0 0 0 0 1]\n",
      "Accuracy:  [[ 39   0]\n",
      " [  9 123]]\n",
      "*****Classification Measures*****\n",
      "Accuracy:  0.9473684210526315\n",
      "F1 Score:  0.9647058823529412\n",
      "Recall:  0.9318181818181818\n",
      "Precision:  1.0\n"
     ]
    }
   ],
   "source": [
    "from sklearn import datasets\n",
    "from sklearn.svm import SVC\n",
    "from sklearn import metrics\n",
    "\n",
    "cancer = datasets.load_breast_cancer()\n",
    "x=cancer.data\n",
    "y=cancer.target\n",
    "print(\"Length of data: \", len(cancer.data))\n",
    "\n",
    "split=int(len(x)*0.7)\n",
    "trainx, testx = x[:split], x[split:]\n",
    "trainy, testy = y[:split], y[split:]\n",
    "\n",
    "print(\"Number of features: \", len(cancer.feature_names))\n",
    "print(\"Feature names: \", cancer.feature_names)\n",
    "print(\"Number of classes: \", len(cancer.target_names))\n",
    "print(\"Class names: \", cancer.target_names)\n",
    "\n",
    "model = SVC(kernel='linear')\n",
    "model.fit(trainx, trainy)\n",
    "yp = model.predict(testx)\n",
    "print(\"Actual Class: \", testy)\n",
    "print(\"Predicted Class: \", yp)\n",
    "\n",
    "print(\"Accuracy: \", metrics.confusion_matrix(testy, yp))\n",
    "print(\"*****Classification Measures*****\")\n",
    "acc = metrics.accuracy_score(testy, yp)\n",
    "f1 = metrics.f1_score(testy, yp)\n",
    "rec = metrics.recall_score(testy, yp)\n",
    "pre = metrics.precision_score(testy, yp)\n",
    "print(\"Accuracy: \", acc)\n",
    "print(\"F1 Score: \", f1)\n",
    "print(\"Recall: \", rec)\n",
    "print(\"Precision: \", pre)"
   ]
  }
 ],
 "metadata": {
  "kernelspec": {
   "display_name": ".venv",
   "language": "python",
   "name": "python3"
  },
  "language_info": {
   "codemirror_mode": {
    "name": "ipython",
    "version": 3
   },
   "file_extension": ".py",
   "mimetype": "text/x-python",
   "name": "python",
   "nbconvert_exporter": "python",
   "pygments_lexer": "ipython3",
   "version": "3.12.3"
  }
 },
 "nbformat": 4,
 "nbformat_minor": 2
}
