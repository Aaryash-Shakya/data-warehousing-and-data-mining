{
 "cells": [
  {
   "cell_type": "code",
   "execution_count": 1,
   "metadata": {},
   "outputs": [
    {
     "name": "stdout",
     "output_type": "stream",
     "text": [
      "    Age  Income  Student  Credit_Rating  Buys_Computer\n",
      "0     2       0        0              1              1\n",
      "1     2       0        0              0              1\n",
      "2     0       0        0              1              2\n",
      "3     1       2        0              1              2\n",
      "4     1       1        1              1              2\n",
      "5     1       1        1              0              1\n",
      "6     0       1        1              0              2\n",
      "7     2       2        0              1              1\n",
      "8     2       1        1              1              2\n",
      "9     1       2        1              1              2\n",
      "10    2       2        1              0              2\n",
      "11    0       2        0              0              2\n",
      "12    0       0        1              1              2\n",
      "13    1       2        0              0              1\n",
      "14    2       2        1              1              0\n",
      "Predicted:  ['Yes']\n"
     ]
    }
   ],
   "source": [
    "from sklearn.naive_bayes import GaussianNB\n",
    "from sklearn import preprocessing\n",
    "import pandas as pd\n",
    "\n",
    "Age=['Youth','Youth','Middle_Aged','Senior','Senior','Senior','Middle_Aged','Youth','Youth', 'Senior','Youth','Middle_Aged','Middle_Aged','Senior','Youth']\n",
    "Income=['High','High','High','Medium','Low','Low','Low','Medium','Low','Medium','Medium','Medium','High','Medium','Medium']\n",
    "Student=['No','No','No','No','Yes','Yes','Yes','No','Yes','Yes','Yes','No','Yes','No','Yes']\n",
    "Credit_Rating=['Fair','Excellent','Fair','Fair','Fair','Excellent','Excellent','Fair','Fair','Fair','Excellent','Excellent','Fair','Excellent','Fair']\n",
    "Buys=['No','No','Yes','Yes','Yes','No','Yes','No','Yes','Yes','Yes','Yes','Yes','No',\"?\"]\n",
    "\n",
    "le=preprocessing.LabelEncoder()\n",
    "a=list(le.fit_transform(Age))\n",
    "i=list(le.fit_transform(Income))\n",
    "s=list(le.fit_transform(Student))\n",
    "cr=list(le.fit_transform(Credit_Rating))\n",
    "b=list(le.fit_transform(Buys))\n",
    "d={'Age':a,'Income':i,'Student':s,'Credit_Rating':cr,'Buys_Computer':b}\n",
    "df=pd.DataFrame(d)\n",
    "print(df)\n",
    "x=df[['Age','Income','Student','Credit_Rating']]\n",
    "y=df['Buys_Computer']\n",
    "trainx=x[:14]\n",
    "trainy=y[:14]\n",
    "testx=x[14:]\n",
    "\n",
    "model=GaussianNB()\n",
    "model.fit(trainx,trainy)\n",
    "predicted=model.predict(testx)\n",
    "pred = le.inverse_transform(predicted)\n",
    "print(\"Predicted: \",pred)"
   ]
  }
 ],
 "metadata": {
  "kernelspec": {
   "display_name": ".env",
   "language": "python",
   "name": "python3"
  },
  "language_info": {
   "codemirror_mode": {
    "name": "ipython",
    "version": 3
   },
   "file_extension": ".py",
   "mimetype": "text/x-python",
   "name": "python",
   "nbconvert_exporter": "python",
   "pygments_lexer": "ipython3",
   "version": "3.12.3"
  }
 },
 "nbformat": 4,
 "nbformat_minor": 2
}
