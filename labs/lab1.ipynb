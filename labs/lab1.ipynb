{
 "cells": [
  {
   "cell_type": "code",
   "execution_count": 1,
   "metadata": {},
   "outputs": [
    {
     "ename": "ModuleNotFoundError",
     "evalue": "No module named 'pandas'",
     "output_type": "error",
     "traceback": [
      "\u001b[0;31m---------------------------------------------------------------------------\u001b[0m",
      "\u001b[0;31mModuleNotFoundError\u001b[0m                       Traceback (most recent call last)",
      "Cell \u001b[0;32mIn[1], line 3\u001b[0m\n\u001b[1;32m      1\u001b[0m \u001b[38;5;66;03m# 1.1 Implementation of Standard scaler\u001b[39;00m\n\u001b[1;32m      2\u001b[0m \u001b[38;5;66;03m# import numpy as np\u001b[39;00m\n\u001b[0;32m----> 3\u001b[0m \u001b[38;5;28;01mimport\u001b[39;00m \u001b[38;5;21;01mpandas\u001b[39;00m \u001b[38;5;28;01mas\u001b[39;00m \u001b[38;5;21;01mpd\u001b[39;00m\n\u001b[1;32m      5\u001b[0m \u001b[38;5;28;01mclass\u001b[39;00m \u001b[38;5;21;01mStandardNorm\u001b[39;00m:\n\u001b[1;32m      6\u001b[0m     \u001b[38;5;28;01mdef\u001b[39;00m \u001b[38;5;21mscale\u001b[39m(\u001b[38;5;28mself\u001b[39m,d):\n",
      "\u001b[0;31mModuleNotFoundError\u001b[0m: No module named 'pandas'"
     ]
    }
   ],
   "source": [
    "# 1.1 Implementation of Standard scaler\n",
    "# import numpy as np\n",
    "import pandas as pd\n",
    "\n",
    "class StandardNorm:\n",
    "    def scale(self,d):\n",
    "        for i in d.columns:\n",
    "            mean=d[i].mean()\n",
    "            sd=d[i].std()\n",
    "            d[i]=(d[i]-mean)/sd\n",
    "        return d\n",
    "\n",
    "# Driver Code\n",
    "data = pd.DataFrame([[45000,42],[32000,26],[58000,48],[37000,32]], columns=['Salary', 'Age'])\n",
    "print('Original Data')\n",
    "print(data)\n",
    "s=StandardNorm()\n",
    "df=s.scale(data)\n",
    "print('\\nScaled Data')\n",
    "print(df)"
   ]
  },
  {
   "cell_type": "code",
   "execution_count": null,
   "metadata": {},
   "outputs": [],
   "source": [
    "# 1.2 Implementation of min-max scaler\n",
    "import pandas as pd\n",
    "\n",
    "class MinMaxNorm:\n",
    "    def scale(self,d):\n",
    "        for i in d.columns:\n",
    "            min=d[i].min()\n",
    "            max=d[i].max()\n",
    "            d[i]=(d[i]-min)/(max-min)\n",
    "        return d\n",
    "\n",
    "# Driver Code\n",
    "data = pd.DataFrame([[45000,42],[32000,26],[58000,48],[37000,32]], columns=['Salary', 'Age'])\n",
    "print('Original Data')\n",
    "print(data)\n",
    "s=MinMaxNorm()\n",
    "df=s.scale(data)\n",
    "print('\\nScaled Data')\n",
    "print(df)\n"
   ]
  },
  {
   "cell_type": "code",
   "execution_count": null,
   "metadata": {},
   "outputs": [],
   "source": [
    "# 1.3 Implementation of Standard scaler using library\n",
    "# import numpy as np\n",
    "import pandas as pd\n",
    "from sklearn.preprocessing import StandardScaler\n",
    "\n",
    "# Driver Code\n",
    "data = pd.DataFrame([[45000,42],[32000,26],[58000,48],[37000,32]], columns=['Salary', 'Age'])\n",
    "print('Original Data')\n",
    "print(data)\n",
    "ss=StandardScaler()\n",
    "d=ss.fit_transform(data)\n",
    "print('Normalized Data')\n",
    "print(d)"
   ]
  },
  {
   "cell_type": "code",
   "execution_count": null,
   "metadata": {},
   "outputs": [],
   "source": [
    "# 1.4 Implementation of min-max scaler using library\n",
    "from sklearn.preprocessing import MinMaxScaler\n",
    "\n",
    "# Driver Code\n",
    "data = pd.DataFrame([[45000,42],[32000,26],[58000,48],[37000,32]], columns=['Salary', 'Age'])\n",
    "print('Original Data')\n",
    "print(data)\n",
    "ms=MinMaxScaler()\n",
    "d=ms.fit_transform(data)\n",
    "print('Normalized Data')\n",
    "print(d)\n",
    "\n"
   ]
  }
 ],
 "metadata": {
  "kernelspec": {
   "display_name": "Python 3",
   "language": "python",
   "name": "python3"
  },
  "language_info": {
   "codemirror_mode": {
    "name": "ipython",
    "version": 3
   },
   "file_extension": ".py",
   "mimetype": "text/x-python",
   "name": "python",
   "nbconvert_exporter": "python",
   "pygments_lexer": "ipython3",
   "version": "3.12.3"
  }
 },
 "nbformat": 4,
 "nbformat_minor": 2
}
